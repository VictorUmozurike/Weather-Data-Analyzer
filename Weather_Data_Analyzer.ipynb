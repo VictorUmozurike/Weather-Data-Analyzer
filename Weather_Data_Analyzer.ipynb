{
  "nbformat": 4,
  "nbformat_minor": 0,
  "metadata": {
    "colab": {
      "provenance": []
    },
    "kernelspec": {
      "name": "python3",
      "display_name": "Python 3"
    },
    "language_info": {
      "name": "python"
    }
  },
  "cells": [
    {
      "cell_type": "markdown",
      "source": [
        "Project 1: Weather Data Analyzer\n",
        "Objective: Create a Python application that allows users to enter a city name and retrieve weather data for that location.\n",
        "Tasks:\n",
        "- Use an external API (e.g., OpenWeatherMap) to retrieve weather information based on the city entered.\n",
        "- Parse and display the current temperature, weather description, and humidity.\n",
        "- Include error handling for cases where the city is not found or the API is unavailable.\n",
        "- Allow users to retrieve weather data for multiple cities and store the results in a CSV file."
      ],
      "metadata": {
        "id": "T-JubY6YNuBT"
      }
    },
    {
      "cell_type": "code",
      "source": [
        "import requests\n",
        "import pandas as pd\n",
        "\n",
        "def get_weather(city_name, api_key):\n",
        "  base_url = f\"http://api.openweathermap.org/data/2.5/weather?\"\n",
        "  complete_url = f\"{base_url}q={city_name}&appid={api_key}&units=metric\"\n",
        "  response = requests.get(complete_url)\n",
        "  data = response.json()\n",
        "  if data[\"cod\"] == 200:\n",
        "    main = data[\"main\"]\n",
        "    weather = data[\"weather\"][0]\n",
        "    temperature = main[\"temp\"]\n",
        "    pressure = main[\"pressure\"]\n",
        "    humidity = main[\"humidity\"]\n",
        "    weather_description = weather[\"description\"]\n",
        "    if response.status_code == 200:\n",
        "      print(\"Weather data fetched successfully!\")\n",
        "      weather_data = {\n",
        "        \"City\": city_name,\n",
        "        \"Temperature (C)\": data['main']['temp'],\n",
        "        \"Humidity (%)\": data['main']['humidity'],\n",
        "        \"Pressure (hPa)\": data['main']['pressure'],\n",
        "        \"Weather\": data['weather'][0]['description'],\n",
        "        \"Wind Speed (m/s)\": data['wind']['speed']\n",
        "        }\n",
        "      df = pd.DataFrame([weather_data])\n",
        "      file_name = \"weather_data.xlsx\"\n",
        "      df.to_excel(file_name, index=True, engine='openpyxl')\n",
        "      print(f\"Weather data saved to {file_name}\")\n",
        "\n",
        "\n",
        "    return weather_data\n",
        "\n",
        "  else:\n",
        "    return f\"{city_name} not found. Please check the name and try again.\"\n",
        "\n",
        "def main():\n",
        "  city_name = input(\"Enter city name: \")\n",
        "  api_key = \"444fd0a8dea1095c02b6f8666623949d\"\n",
        "  weather = get_weather(city_name, api_key)\n",
        "  print(weather)\n",
        "\n",
        "if __name__ == \"__main__\":\n",
        "    main()\n",
        "\n"
      ],
      "metadata": {
        "id": "yyoL4N9LU4LJ",
        "colab": {
          "base_uri": "https://localhost:8080/"
        },
        "outputId": "719b0089-d32a-4d3d-f77f-937c5b86f52c"
      },
      "execution_count": null,
      "outputs": [
        {
          "output_type": "stream",
          "name": "stdout",
          "text": [
            "Enter city name: Boston\n",
            "Weather data fetched successfully!\n",
            "Weather data saved to weather_data.xlsx\n",
            "{'City': 'Boston', 'Temperature (C)': -4.25, 'Humidity (%)': 83, 'Pressure (hPa)': 1011, 'Weather': 'overcast clouds', 'Wind Speed (m/s)': 3.58}\n"
          ]
        }
      ]
    },
    {
      "cell_type": "code",
      "source": [],
      "metadata": {
        "id": "arburG9jX-PL"
      },
      "execution_count": null,
      "outputs": []
    },
    {
      "cell_type": "code",
      "source": [
        "books_df.to_excel('Weather Data.xlsx', index=False)"
      ],
      "metadata": {
        "colab": {
          "base_uri": "https://localhost:8080/",
          "height": 141
        },
        "id": "IeLPyUNrLdJ0",
        "outputId": "7f11389f-1df2-44de-a9fc-a07eee0b0fab"
      },
      "execution_count": null,
      "outputs": [
        {
          "output_type": "error",
          "ename": "NameError",
          "evalue": "name 'books_df' is not defined",
          "traceback": [
            "\u001b[0;31m---------------------------------------------------------------------------\u001b[0m",
            "\u001b[0;31mNameError\u001b[0m                                 Traceback (most recent call last)",
            "\u001b[0;32m<ipython-input-12-87a8fde4bd91>\u001b[0m in \u001b[0;36m<cell line: 1>\u001b[0;34m()\u001b[0m\n\u001b[0;32m----> 1\u001b[0;31m \u001b[0mbooks_df\u001b[0m\u001b[0;34m.\u001b[0m\u001b[0mto_excel\u001b[0m\u001b[0;34m(\u001b[0m\u001b[0;34m'Weather Data.xlsx'\u001b[0m\u001b[0;34m,\u001b[0m \u001b[0mindex\u001b[0m\u001b[0;34m=\u001b[0m\u001b[0;32mFalse\u001b[0m\u001b[0;34m)\u001b[0m\u001b[0;34m\u001b[0m\u001b[0;34m\u001b[0m\u001b[0m\n\u001b[0m",
            "\u001b[0;31mNameError\u001b[0m: name 'books_df' is not defined"
          ]
        }
      ]
    }
  ]
}